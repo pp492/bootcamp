{
 "cells": [
  {
   "cell_type": "code",
   "execution_count": 11,
   "metadata": {},
   "outputs": [
    {
     "name": "stdout",
     "output_type": "stream",
     "text": [
      "virginica\n",
      "setosa\n",
      "virginica\n",
      "setosa\n",
      "virginica\n",
      "setosa\n"
     ]
    }
   ],
   "source": [
    "INPUT = [\n",
    "    ('Sepal length', 'Sepal width', 'Petal length', 'Petal width', 'Species'),\n",
    "    (5.8, 2.7, 5.1, 1.9, {'virginica'}),\n",
    "    (5.1, 3.5, 1.4, 0.2, {'setosa'}),\n",
    "    (5.7, 2.8, 4.1, 1.3, {'versicolor'}),\n",
    "    (6.3, 2.9, 5.6, 1.8, {'virginica'}),\n",
    "    (6.4, 3.2, 4.5, 1.5, {'versicolor'}),\n",
    "    (4.7, 3.2, 1.3, 0.2, {'setosa'}),\n",
    "    (7.0, 3.2, 4.7, 1.4, {'versicolor'}),\n",
    "    (7.6, 3.0, 6.6, 2.1, {'virginica'}),\n",
    "    (4.6, 3.1, 1.5, 0.2, {'setosa'}),\n",
    "]\n",
    "header, *data=INPUT\n",
    "\n",
    "for *meauserments,species in data:\n",
    "    species=species.pop()\n",
    "    if species.endswith('ca') or species.endswith('sa'):\n",
    "        print(species)"
   ]
  },
  {
   "cell_type": "code",
   "execution_count": 12,
   "metadata": {},
   "outputs": [],
   "source": [
    "INPUT = [\n",
    "    {'Sepal length': 5.1, 'Sepal width': 3.5, 'Species': 'setosa'},\n",
    "    {'Petal length': 4.1, 'Petal width': 1.3, 'Species': 'versicolor'},\n",
    "    {'Sepal length': 6.3, 'Petal width': 1.8, 'Species': 'virginica'},\n",
    "    {'Sepal length': 5.0, 'Petal width': 0.2, 'Species': 'setosa'},\n",
    "    {'Sepal width': 2.8, 'Petal length': 4.1, 'Species': 'versicolor'},\n",
    "    {'Sepal width': 2.9, 'Petal width': 1.8, 'Species': 'virginica'},\n",
    "]"
   ]
  },
  {
   "cell_type": "code",
   "execution_count": 19,
   "metadata": {},
   "outputs": [
    {
     "data": {
      "text/plain": [
       "{'Petal length', 'Petal width', 'Sepal length', 'Sepal width', 'Species'}"
      ]
     },
     "execution_count": 19,
     "metadata": {},
     "output_type": "execute_result"
    }
   ],
   "source": [
    "wlasc=set()\n",
    "\n",
    "for row in INPUT:\n",
    "    wlasc.update(row.keys())\n",
    "wlasc"
   ]
  },
  {
   "cell_type": "code",
   "execution_count": 21,
   "metadata": {},
   "outputs": [],
   "source": [
    "INPUT = {\n",
    "    6: ['Doctorate', 'Prof-school'],\n",
    "    5: ['Masters', 'Bachelor', 'Engineer'],\n",
    "    4: ['HS-grad'],\n",
    "    3: ['Junior High'],\n",
    "    2: ['Primary School'],\n",
    "    1: ['Kindergarten'],\n",
    "}"
   ]
  },
  {
   "cell_type": "code",
   "execution_count": 31,
   "metadata": {},
   "outputs": [
    {
     "data": {
      "text/plain": [
       "{'Doctorate': '6',\n",
       " 'Prof-school': '6',\n",
       " 'Masters': '5',\n",
       " 'Bachelor': '5',\n",
       " 'Engineer': '5',\n",
       " 'HS-grad': '4',\n",
       " 'Junior High': '3',\n",
       " 'Primary School': '2',\n",
       " 'Kindergarten': '1'}"
      ]
     },
     "execution_count": 31,
     "metadata": {},
     "output_type": "execute_result"
    }
   ],
   "source": [
    "output={}\n",
    "for key,values in INPUT.items():\n",
    "    for value in values:\n",
    "        output[value]=str(key)\n",
    "        \n",
    "output"
   ]
  },
  {
   "cell_type": "code",
   "execution_count": 32,
   "metadata": {},
   "outputs": [],
   "source": [
    "INPUT = [\n",
    "    ('Sepal length', 'Sepal width', 'Petal length', 'Petal width', 'Species'),\n",
    "    (5.8, 2.7, 5.1, 1.9, 'virginica'),\n",
    "    (5.1, 3.5, 1.4, 0.2, 'setosa'),\n",
    "    (5.7, 2.8, 4.1, 1.3, 'versicolor'),\n",
    "    (6.3, 2.9, 5.6, 1.8, 'virginica'),\n",
    "    (6.4, 3.2, 4.5, 1.5, 'versicolor'),\n",
    "    (4.7, 3.2, 1.3, 0.2, 'setosa'),\n",
    "    (7.0, 3.2, 4.7, 1.4, 'versicolor'),\n",
    "    (7.6, 3.0, 6.6, 2.1, 'virginica'),\n",
    "    (4.9, 3.0, 1.4, 0.2, 'setosa'),\n",
    "    (4.9, 2.5, 4.5, 1.7, 'virginica'),\n",
    "    (7.1, 3.0, 5.9, 2.1, 'virginica'),\n",
    "    (4.6, 3.4, 1.4, 0.3, 'setosa'),\n",
    "    (5.4, 3.9, 1.7, 0.4, 'setosa'),\n",
    "    (5.7, 2.8, 4.5, 1.3, 'versicolor'),\n",
    "    (5.0, 3.6, 1.4, 0.3, 'setosa'),\n",
    "    (5.5, 2.3, 4.0, 1.3, 'versicolor'),\n",
    "    (6.5, 3.0, 5.8, 2.2, 'virginica'),\n",
    "    (6.5, 2.8, 4.6, 1.5, 'versicolor'),\n",
    "    (6.3, 3.3, 6.0, 2.5, 'virginica'),\n",
    "    (6.9, 3.1, 4.9, 1.5, 'versicolor'),\n",
    "    (4.6, 3.1, 1.5, 0.2, 'setosa'),\n",
    "]"
   ]
  },
  {
   "cell_type": "code",
   "execution_count": 37,
   "metadata": {},
   "outputs": [
    {
     "ename": "SyntaxError",
     "evalue": "invalid syntax (<ipython-input-37-d9e8768175db>, line 6)",
     "output_type": "error",
     "traceback": [
      "\u001b[0;36m  File \u001b[0;32m\"<ipython-input-37-d9e8768175db>\"\u001b[0;36m, line \u001b[0;32m6\u001b[0m\n\u001b[0;31m    output\u001b[0m\n\u001b[0m         ^\u001b[0m\n\u001b[0;31mSyntaxError\u001b[0m\u001b[0;31m:\u001b[0m invalid syntax\n"
     ]
    }
   ],
   "source": [
    "header, *data=INPUT\n",
    "output=[]\n",
    "\n",
    "for row in data:\n",
    "    pair= zip(header,row)\n",
    "    output.append(dict(pair)\n",
    "output"
   ]
  },
  {
   "cell_type": "code",
   "execution_count": 39,
   "metadata": {},
   "outputs": [],
   "source": [
    "INPUT = [\n",
    "    ('Sepal length', 'Sepal width', 'Petal length', 'Petal width', 'Species'),\n",
    "    (5.8, 2.7, 5.1, 1.9, 'virginica'),\n",
    "    (5.1, 3.5, 1.4, 0.2, 'setosa'),\n",
    "    (5.7, 2.8, 4.1, 1.3, 'versicolor'),\n",
    "    (6.3, 2.9, 5.6, 1.8, 'virginica'),\n",
    "    (6.4, 3.2, 4.5, 1.5, 'versicolor'),\n",
    "    (4.7, 3.2, 1.3, 0.2, 'setosa'),\n",
    "    (7.0, 3.2, 4.7, 1.4, 'versicolor'),\n",
    "    (7.6, 3.0, 6.6, 2.1, 'virginica'),\n",
    "    (4.9, 3.0, 1.4, 0.2, 'setosa'),\n",
    "    (4.9, 2.5, 4.5, 1.7, 'virginica'),\n",
    "    (7.1, 3.0, 5.9, 2.1, 'virginica'),\n",
    "    (4.6, 3.4, 1.4, 0.3, 'setosa'),\n",
    "    (5.4, 3.9, 1.7, 0.4, 'setosa'),\n",
    "    (5.7, 2.8, 4.5, 1.3, 'versicolor'),\n",
    "    (5.0, 3.6, 1.4, 0.3, 'setosa'),\n",
    "    (5.5, 2.3, 4.0, 1.3, 'versicolor'),\n",
    "    (6.5, 3.0, 5.8, 2.2, 'virginica'),\n",
    "    (6.5, 2.8, 4.6, 1.5, 'versicolor'),\n",
    "    (6.3, 3.3, 6.0, 2.5, 'virginica'),\n",
    "    (6.9, 3.1, 4.9, 1.5, 'versicolor'),\n",
    "    (4.6, 3.1, 1.5, 0.2, 'setosa'),\n",
    "]"
   ]
  },
  {
   "cell_type": "code",
   "execution_count": 44,
   "metadata": {},
   "outputs": [
    {
     "name": "stdout",
     "output_type": "stream",
     "text": [
      "[(5.8, 2.7, 5.1, 1.9), (5.1, 3.5, 1.4, 0.2), (5.7, 2.8, 4.1, 1.3), (6.3, 2.9, 5.6, 1.8), (6.4, 3.2, 4.5, 1.5), (4.7, 3.2, 1.3, 0.2), (7.0, 3.2, 4.7, 1.4), (7.6, 3.0, 6.6, 2.1), (4.9, 3.0, 1.4, 0.2), (4.9, 2.5, 4.5, 1.7), (7.1, 3.0, 5.9, 2.1), (4.6, 3.4, 1.4, 0.3), (5.4, 3.9, 1.7, 0.4), (5.7, 2.8, 4.5, 1.3), (5.0, 3.6, 1.4, 0.3), (5.5, 2.3, 4.0, 1.3), (6.5, 3.0, 5.8, 2.2), (6.5, 2.8, 4.6, 1.5), (6.3, 3.3, 6.0, 2.5), (6.9, 3.1, 4.9, 1.5), (4.6, 3.1, 1.5, 0.2)]\n",
      "[0, 1, 2, 0, 2, 1, 2, 0, 1, 0, 0, 1, 1, 2, 1, 2, 0, 2, 0, 2, 1]\n",
      "{0: 'virginica', 1: 'setosa', 2: 'versicolor'}\n"
     ]
    }
   ],
   "source": [
    "header, *data=INPUT\n",
    "features=[]\n",
    "labels=[]\n",
    "lable_enc={}\n",
    "for *pomiary,gatunek in data:\n",
    "    features.append(tuple(pomiary))\n",
    "    if gatunek not in lable_enc.values():\n",
    "        nr = len(lable_enc)\n",
    "        lable_enc[nr]=gatunek\n",
    "        \n",
    "    for nr,gat in lable_enc.items():\n",
    "        if gat== gatunek:\n",
    "            labels.append(nr)\n",
    "            \n",
    "    \n",
    "    \n",
    "print(features)\n",
    "print(labels)\n",
    "print(lable_enc)"
   ]
  }
 ],
 "metadata": {
  "kernelspec": {
   "display_name": "Python 3",
   "language": "python",
   "name": "python3"
  },
  "language_info": {
   "codemirror_mode": {
    "name": "ipython",
    "version": 3
   },
   "file_extension": ".py",
   "mimetype": "text/x-python",
   "name": "python",
   "nbconvert_exporter": "python",
   "pygments_lexer": "ipython3",
   "version": "3.7.0"
  }
 },
 "nbformat": 4,
 "nbformat_minor": 2
}
