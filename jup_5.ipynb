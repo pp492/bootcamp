{
 "cells": [
  {
   "cell_type": "code",
   "execution_count": 1,
   "metadata": {},
   "outputs": [],
   "source": [
    "TEKST_PRZEM='We choose to go to the Moon. We choose to go to the Moon in this decade and do the other things. Not because they are easy, but because they are hard. Because that goal will serve to organize and measure the best of our energies and skills. Because that challenge is one that we are willing to accept. One we are unwilling to postpone. And one we intend to win'"
   ]
  },
  {
   "cell_type": "code",
   "execution_count": 2,
   "metadata": {},
   "outputs": [],
   "source": [
    "zdania =[]\n",
    "zdania = TEKST_PRZEM.split('.')"
   ]
  },
  {
   "cell_type": "code",
   "execution_count": 6,
   "metadata": {},
   "outputs": [
    {
     "data": {
      "text/plain": [
       "{'We choose to go to the Moon': 7,\n",
       " 'We choose to go to the Moon in this decade and do the other things': 15,\n",
       " 'Not because they are easy, but because they are hard': 10,\n",
       " 'Because that goal will serve to organize and measure the best of our energies and skills': 16,\n",
       " 'Because that challenge is one that we are willing to accept': 11,\n",
       " 'One we are unwilling to postpone': 6,\n",
       " 'And one we intend to win': 6}"
      ]
     },
     "execution_count": 6,
     "metadata": {},
     "output_type": "execute_result"
    }
   ],
   "source": [
    "zdania_dict={}\n",
    "for zdanie in zdania:\n",
    "    zdanie=zdanie.strip()\n",
    "    if zdanie not in zdania_dict:\n",
    "        zdania_dict[zdanie]= zdanie.count(' ')+1\n",
    "zdania_dict"
   ]
  },
  {
   "cell_type": "code",
   "execution_count": 7,
   "metadata": {},
   "outputs": [
    {
     "name": "stdout",
     "output_type": "stream",
     "text": [
      "Result: {'We choose to go to the Moon': 7, 'We choose to go to the Moon in this decade and do the other things': 15, 'Not because they are easy, but because they are hard': 10, 'Because that goal will serve to organize and measure the best of our energies and skills': 16, 'Because that challenge is one that we are willing to accept': 11, 'One we are unwilling to postpone': 6, 'And one we intend to win': 6}\n",
      "Total Words: 71\n",
      "Total Sentences: 7\n",
      "Total Characters: 348\n",
      "Total Letters: 283\n",
      "Total Adverbs: 0\n",
      "Total Commas: 1\n"
     ]
    }
   ],
   "source": [
    "TEXT = 'We choose to go to the Moon. We choose to go to the Moon in this decade and do the other things. Not because they are easy, but because they are hard. Because that goal will serve to organize and measure the best of our energies and skills. Because that challenge is one that we are willing to accept. One we are unwilling to postpone. And one we intend to win'\n",
    "\n",
    "result = dict()\n",
    "\n",
    "total_words = 0\n",
    "total_sentences = 0\n",
    "total_chars = 0\n",
    "total_letters = 0\n",
    "total_adverbs = 0\n",
    "total_commas = 0\n",
    "\n",
    "\n",
    "for sentence in TEXT.split('.'):\n",
    "    sentence = sentence.strip()\n",
    "    words_in_sentence = sentence.split(' ')\n",
    "    word_count = len(words_in_sentence)\n",
    "\n",
    "    result[sentence] = word_count\n",
    "    total_words += word_count\n",
    "    total_sentences += 1\n",
    "    total_chars += len(sentence)\n",
    "    total_commas += sentence.count(',')\n",
    "    total_letters += len(sentence.replace(' ', '').replace(',', ''))\n",
    "\n",
    "    for word in words_in_sentence:\n",
    "        if word.endswith('ly'):\n",
    "            total_adverbs += 1\n",
    "\n",
    "\n",
    "print(f'Result: {result}')\n",
    "print(f'Total Words: {total_words}')\n",
    "print(f'Total Sentences: {total_sentences}')\n",
    "print(f'Total Characters: {total_chars}')\n",
    "print(f'Total Letters: {total_letters}')\n",
    "print(f'Total Adverbs: {total_adverbs}')\n",
    "print(f'Total Commas: {total_commas}')"
   ]
  },
  {
   "cell_type": "code",
   "execution_count": null,
   "metadata": {},
   "outputs": [],
   "source": []
  }
 ],
 "metadata": {
  "kernelspec": {
   "display_name": "Python 3",
   "language": "python",
   "name": "python3"
  },
  "language_info": {
   "codemirror_mode": {
    "name": "ipython",
    "version": 3
   },
   "file_extension": ".py",
   "mimetype": "text/x-python",
   "name": "python",
   "nbconvert_exporter": "python",
   "pygments_lexer": "ipython3",
   "version": "3.7.0"
  }
 },
 "nbformat": 4,
 "nbformat_minor": 2
}
