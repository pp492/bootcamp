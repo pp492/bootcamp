{
 "cells": [
  {
   "cell_type": "code",
   "execution_count": 1,
   "metadata": {},
   "outputs": [],
   "source": [
    "INPUT = [\n",
    "    ('Sepal length', 'Sepal width', 'Petal length', 'Petal width', 'Species'),\n",
    "    (5.8, 2.7, 5.1, 1.9, 'virginica'),\n",
    "    (5.1, 3.5, 1.4, 0.2, 'setosa'),\n",
    "    (5.7, 2.8, 4.1, 1.3, 'versicolor'),\n",
    "    (6.3, 2.9, 5.6, 1.8, 'virginica'),\n",
    "    (6.4, 3.2, 4.5, 1.5, 'versicolor'),\n",
    "    (4.7, 3.2, 1.3, 0.2, 'setosa'),\n",
    "    (7.0, 3.2, 4.7, 1.4, 'versicolor'),\n",
    "    (7.6, 3.0, 6.6, 2.1, 'virginica'),\n",
    "    (4.9, 3.0, 1.4, 0.2, 'setosa'),\n",
    "    (4.9, 2.5, 4.5, 1.7, 'virginica'),\n",
    "    (7.1, 3.0, 5.9, 2.1, 'virginica'),\n",
    "    (4.6, 3.4, 1.4, 0.3, 'setosa'),\n",
    "    (5.4, 3.9, 1.7, 0.4, 'setosa'),\n",
    "    (5.7, 2.8, 4.5, 1.3, 'versicolor'),\n",
    "    (5.0, 3.6, 1.4, 0.3, 'setosa'),\n",
    "    (5.5, 2.3, 4.0, 1.3, 'versicolor'),\n",
    "    (6.5, 3.0, 5.8, 2.2, 'virginica'),\n",
    "    (6.5, 2.8, 4.6, 1.5, 'versicolor'),\n",
    "    (6.3, 3.3, 6.0, 2.5, 'virginica'),\n",
    "    (6.9, 3.1, 4.9, 1.5, 'versicolor'),\n",
    "    (4.6, 3.1, 1.5, 0.2, 'setosa'),\n",
    "]"
   ]
  },
  {
   "cell_type": "code",
   "execution_count": 2,
   "metadata": {},
   "outputs": [
    {
     "data": {
      "text/plain": [
       "[('Sepal length', 'Sepal width', 'Petal length', 'Petal width', 'Species'),\n",
       " (5.8, 2.7, 5.1, 1.9, 'virginica'),\n",
       " (5.1, 3.5, 1.4, 0.2, 'setosa'),\n",
       " (5.7, 2.8, 4.1, 1.3, 'versicolor'),\n",
       " (6.3, 2.9, 5.6, 1.8, 'virginica'),\n",
       " (6.4, 3.2, 4.5, 1.5, 'versicolor'),\n",
       " (4.7, 3.2, 1.3, 0.2, 'setosa'),\n",
       " (7.0, 3.2, 4.7, 1.4, 'versicolor'),\n",
       " (7.6, 3.0, 6.6, 2.1, 'virginica'),\n",
       " (4.9, 3.0, 1.4, 0.2, 'setosa'),\n",
       " (4.9, 2.5, 4.5, 1.7, 'virginica'),\n",
       " (7.1, 3.0, 5.9, 2.1, 'virginica'),\n",
       " (4.6, 3.4, 1.4, 0.3, 'setosa'),\n",
       " (5.4, 3.9, 1.7, 0.4, 'setosa'),\n",
       " (5.7, 2.8, 4.5, 1.3, 'versicolor'),\n",
       " (5.0, 3.6, 1.4, 0.3, 'setosa'),\n",
       " (5.5, 2.3, 4.0, 1.3, 'versicolor'),\n",
       " (6.5, 3.0, 5.8, 2.2, 'virginica'),\n",
       " (6.5, 2.8, 4.6, 1.5, 'versicolor'),\n",
       " (6.3, 3.3, 6.0, 2.5, 'virginica'),\n",
       " (6.9, 3.1, 4.9, 1.5, 'versicolor'),\n",
       " (4.6, 3.1, 1.5, 0.2, 'setosa')]"
      ]
     },
     "execution_count": 2,
     "metadata": {},
     "output_type": "execute_result"
    }
   ],
   "source": [
    "INPUT"
   ]
  },
  {
   "cell_type": "code",
   "execution_count": 5,
   "metadata": {},
   "outputs": [],
   "source": [
    "header = INPUT[0]"
   ]
  },
  {
   "cell_type": "code",
   "execution_count": 7,
   "metadata": {},
   "outputs": [],
   "source": [
    "output=[]"
   ]
  },
  {
   "cell_type": "code",
   "execution_count": 20,
   "metadata": {},
   "outputs": [],
   "source": [
    "lista =[]\n",
    "lista.append([INPUT[1][0],INPUT[1][1],INPUT[1][2],INPUT[1][3],INPUT[1][4]])\n",
    "lista.append([INPUT[5][0],INPUT[5][1],INPUT[5][2],INPUT[5][3],INPUT[5][4]])\n",
    "lista.append([INPUT[8][0],INPUT[8][1],INPUT[8][2],INPUT[8][3],INPUT[8][4]])"
   ]
  },
  {
   "cell_type": "code",
   "execution_count": 21,
   "metadata": {},
   "outputs": [],
   "source": [
    "touple =()"
   ]
  },
  {
   "cell_type": "code",
   "execution_count": 22,
   "metadata": {},
   "outputs": [],
   "source": [
    "myset = set()"
   ]
  },
  {
   "cell_type": "code",
   "execution_count": null,
   "metadata": {},
   "outputs": [],
   "source": []
  },
  {
   "cell_type": "code",
   "execution_count": null,
   "metadata": {},
   "outputs": [],
   "source": []
  }
 ],
 "metadata": {
  "kernelspec": {
   "display_name": "Python 3",
   "language": "python",
   "name": "python3"
  },
  "language_info": {
   "codemirror_mode": {
    "name": "ipython",
    "version": 3
   },
   "file_extension": ".py",
   "mimetype": "text/x-python",
   "name": "python",
   "nbconvert_exporter": "python",
   "pygments_lexer": "ipython3",
   "version": "3.7.0"
  }
 },
 "nbformat": 4,
 "nbformat_minor": 2
}
