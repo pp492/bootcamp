{
 "cells": [
  {
   "cell_type": "code",
   "execution_count": 1,
   "metadata": {},
   "outputs": [],
   "source": [
    "sl={\"A\": \"Alfa\",\"B\": \"Bravo\",\"C\": \"Charlie\",\"D\": \"Delta\",\"E\": \"Echo\",\"F\": \"Foxtrot\",\"G\": \"Golf\",\"H\": \"Hotel\",\"I\": \"India\",\"J\": \"Juliet\",\"K\": \"Kilo\",\"L\": \"Lima\",\"M\": \"Mike\",\"N\": \"November\",\"O\": \"Oscar\",\"P\": \"Papa\",\"Q\": \"Quebec\",\"R\": \"Romeo\",\"S\": \"Sierra\",\"T\": \"Tango\",\"U\": \"Uniform\",\"V\": \"Victor\",\"W\": \"Whisky\",\"X\": \"X-Ray\",\"Y\": \"Yankee\",\"Z\": \"Zulu\"}"
   ]
  },
  {
   "cell_type": "code",
   "execution_count": 10,
   "metadata": {},
   "outputs": [
    {
     "name": "stdout",
     "output_type": "stream",
     "text": [
      "Podaj litere: q\n"
     ]
    },
    {
     "data": {
      "text/plain": [
       "'pppppp'"
      ]
     },
     "execution_count": 10,
     "metadata": {},
     "output_type": "execute_result"
    }
   ],
   "source": [
    "text = input('Podaj litere: ')\n",
    "\n",
    "sl.get(text,\"pppppp\")"
   ]
  },
  {
   "cell_type": "code",
   "execution_count": 13,
   "metadata": {},
   "outputs": [
    {
     "name": "stdout",
     "output_type": "stream",
     "text": [
      "liczba: 2\n"
     ]
    },
    {
     "data": {
      "text/plain": [
       "True"
      ]
     },
     "execution_count": 13,
     "metadata": {},
     "output_type": "execute_result"
    }
   ],
   "source": [
    "text = input('liczba: ')\n",
    "liczba = int(text)\n",
    "liczba%2==0"
   ]
  },
  {
   "cell_type": "code",
   "execution_count": 19,
   "metadata": {},
   "outputs": [
    {
     "name": "stdout",
     "output_type": "stream",
     "text": [
      "liczba: 22\n",
      "Pelnoletni\n"
     ]
    }
   ],
   "source": [
    "text = input('liczba: ')\n",
    "liczba = int(text)\n",
    "if liczba <18:\n",
    "    print('Niepelnoletni')\n",
    "else:\n",
    "    print('Pelnoletni')"
   ]
  },
  {
   "cell_type": "code",
   "execution_count": 24,
   "metadata": {},
   "outputs": [
    {
     "data": {
      "text/plain": [
       "3"
      ]
     },
     "execution_count": 24,
     "metadata": {},
     "output_type": "execute_result"
    }
   ],
   "source": [
    "INPUT = (2, 3, 3.5, 4, 4.5, 5)\n",
    "INPUT[1]"
   ]
  },
  {
   "cell_type": "code",
   "execution_count": 32,
   "metadata": {},
   "outputs": [
    {
     "data": {
      "text/plain": [
       "[2.0, 3.0, 3.5, 4.0, 4.5, 5.0]"
      ]
     },
     "execution_count": 32,
     "metadata": {},
     "output_type": "execute_result"
    }
   ],
   "source": [
    "i = 0\n",
    "lista_oc=[]\n",
    "while i < len(INPUT):\n",
    "    lista_oc.append(float(INPUT[i]))\n",
    "    i += 1\n",
    "lista_oc"
   ]
  },
  {
   "cell_type": "code",
   "execution_count": 38,
   "metadata": {},
   "outputs": [
    {
     "name": "stdout",
     "output_type": "stream",
     "text": [
      "Podaj ocene: 2\n",
      "Podaj ocene: 3\n",
      "Podaj ocene: \n",
      "2.5\n"
     ]
    }
   ],
   "source": [
    "grade=[]\n",
    "while True:\n",
    "    text = input('Podaj ocene: ')\n",
    "    if not text:\n",
    "        break\n",
    "    ocena = float(text)\n",
    "    if ocena in lista_oc:\n",
    "        grade.append(ocena)\n",
    "    else:\n",
    "        print('to nie jest poprawna ocena') \n",
    "\n",
    "if grade:\n",
    "    srednia = sum (grade)/len(grade)\n",
    "    print(srednia)"
   ]
  },
  {
   "cell_type": "code",
   "execution_count": 39,
   "metadata": {},
   "outputs": [],
   "source": [
    "INPUT = [1, 4, 6, 7, 4, 4, 4, 5, 1, 7, 0,\n",
    "         0, 6, 5, 0, 0, 9, 7, 0, 4, 4, 8,\n",
    "         2, 4, 0, 0, 1, 9, 1, 7, 8, 8, 9,\n",
    "         1, 3, 5, 6, 8, 2, 8, 1, 3, 9, 5,\n",
    "         4, 8, 1, 9, 6, 3]"
   ]
  },
  {
   "cell_type": "code",
   "execution_count": 47,
   "metadata": {},
   "outputs": [
    {
     "data": {
      "text/plain": [
       "{1: 7, 4: 8, 6: 4, 7: 4, 5: 4, 0: 7, 9: 5, 8: 6, 2: 2, 3: 3}"
      ]
     },
     "execution_count": 47,
     "metadata": {},
     "output_type": "execute_result"
    }
   ],
   "source": [
    "cyfry_wyst={}\n",
    "for cyfra in INPUT:\n",
    "    if cyfra not in cyfry_wyst:\n",
    "        cyfry_wyst[cyfra]= 0\n",
    "    cyfry_wyst[cyfra] += 1\n",
    "        \n",
    "cyfry_wyst\n",
    "    "
   ]
  },
  {
   "cell_type": "code",
   "execution_count": null,
   "metadata": {},
   "outputs": [],
   "source": [
    "grupy_wyst={\n",
    "    'small':0\n",
    "    'medium':0\n",
    "    'large':0\n",
    "}\n",
    "for cyfra in INPUT:\n",
    "    if 0<cyfra<2:\n",
    "        grupy_wyst['small'] +=1\n",
    "\n",
    "        \n",
    "cyfry_wyst"
   ]
  },
  {
   "cell_type": "code",
   "execution_count": 49,
   "metadata": {},
   "outputs": [
    {
     "name": "stdout",
     "output_type": "stream",
     "text": [
      "[{'count': 16,\n",
      "  'digits': [1, 1, 0, 0, 0, 0, 0, 2, 0, 0, 1, 1, 1, 2, 1, 1],\n",
      "  'name': 'small',\n",
      "  'range': range(0, 3)},\n",
      " {'count': 23,\n",
      "  'digits': [4,\n",
      "             6,\n",
      "             7,\n",
      "             4,\n",
      "             4,\n",
      "             4,\n",
      "             5,\n",
      "             7,\n",
      "             6,\n",
      "             5,\n",
      "             7,\n",
      "             4,\n",
      "             4,\n",
      "             4,\n",
      "             7,\n",
      "             3,\n",
      "             5,\n",
      "             6,\n",
      "             3,\n",
      "             5,\n",
      "             4,\n",
      "             6,\n",
      "             3],\n",
      "  'name': 'medium',\n",
      "  'range': range(3, 8)},\n",
      " {'count': 11,\n",
      "  'digits': [9, 8, 9, 8, 8, 9, 8, 8, 9, 8, 9],\n",
      "  'name': 'large',\n",
      "  'range': range(8, 10)},\n",
      " {'count': 27,\n",
      "  'digits': [4,\n",
      "             6,\n",
      "             4,\n",
      "             4,\n",
      "             4,\n",
      "             0,\n",
      "             0,\n",
      "             6,\n",
      "             0,\n",
      "             0,\n",
      "             0,\n",
      "             4,\n",
      "             4,\n",
      "             8,\n",
      "             2,\n",
      "             4,\n",
      "             0,\n",
      "             0,\n",
      "             8,\n",
      "             8,\n",
      "             6,\n",
      "             8,\n",
      "             2,\n",
      "             8,\n",
      "             4,\n",
      "             8,\n",
      "             6],\n",
      "  'name': 'even',\n",
      "  'range': [0, 2, 4, 6, 8]},\n",
      " {'count': 23,\n",
      "  'digits': [1,\n",
      "             7,\n",
      "             5,\n",
      "             1,\n",
      "             7,\n",
      "             5,\n",
      "             9,\n",
      "             7,\n",
      "             1,\n",
      "             9,\n",
      "             1,\n",
      "             7,\n",
      "             9,\n",
      "             1,\n",
      "             3,\n",
      "             5,\n",
      "             1,\n",
      "             3,\n",
      "             9,\n",
      "             5,\n",
      "             1,\n",
      "             9,\n",
      "             3],\n",
      "  'name': 'odd',\n",
      "  'range': [1, 3, 5, 7, 9]},\n",
      " {'count': 14,\n",
      "  'digits': [1, 1, 9, 2, 1, 9, 1, 9, 1, 2, 1, 9, 1, 9],\n",
      "  'name': 'custom',\n",
      "  'range': [1, 2, 9]}]\n"
     ]
    }
   ],
   "source": [
    "## Alternative version\n",
    "INPUT = [1, 4, 6, 7, 4, 4, 4, 5, 1, 7, 0,\n",
    "         0, 6, 5, 0, 0, 9, 7, 0, 4, 4, 8,\n",
    "         2, 4, 0, 0, 1, 9, 1, 7, 8, 8, 9,\n",
    "         1, 3, 5, 6, 8, 2, 8, 1, 3, 9, 5,\n",
    "         4, 8, 1, 9, 6, 3]\n",
    "\n",
    "COUNTERS = [\n",
    "    {'name': 'small', 'range': range(0, 3), 'count': 0, 'digits': []},\n",
    "    {'name': 'medium', 'range': range(3, 8), 'count': 0, 'digits': []},\n",
    "    {'name': 'large', 'range': range(8, 10), 'count': 0, 'digits': []},\n",
    "    {'name': 'even', 'range': [0, 2, 4, 6, 8], 'count': 0, 'digits': []},\n",
    "    {'name': 'odd', 'range': [1, 3, 5, 7, 9], 'count': 0, 'digits': []},\n",
    "    {'name': 'custom', 'range': [1, 2, 9], 'count': 0, 'digits': []},\n",
    "]\n",
    "\n",
    "for digit in INPUT:\n",
    "    for counter in COUNTERS:\n",
    "        if digit in counter['range']:\n",
    "            counter['digits'].append(digit)\n",
    "            counter['count'] += 1\n",
    "\n",
    "\n",
    "from pprint import pprint\n",
    "pprint(COUNTERS)"
   ]
  },
  {
   "cell_type": "code",
   "execution_count": null,
   "metadata": {},
   "outputs": [],
   "source": []
  }
 ],
 "metadata": {
  "kernelspec": {
   "display_name": "Python 3",
   "language": "python",
   "name": "python3"
  },
  "language_info": {
   "codemirror_mode": {
    "name": "ipython",
    "version": 3
   },
   "file_extension": ".py",
   "mimetype": "text/x-python",
   "name": "python",
   "nbconvert_exporter": "python",
   "pygments_lexer": "ipython3",
   "version": "3.7.0"
  }
 },
 "nbformat": 4,
 "nbformat_minor": 2
}
